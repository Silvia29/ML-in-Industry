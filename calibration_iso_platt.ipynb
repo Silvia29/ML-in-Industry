{
  "cells": [
    {
      "cell_type": "markdown",
      "id": "286495c6",
      "metadata": {
        "id": "286495c6"
      },
      "source": [
        "# Calibration\n",
        "\n",
        "Modern integrated circuits, or chips, are manufactured using a complex process where the chips are essentially printed onto a silicon wafer (see this **[video](https://www.youtube.com/watch?v=g8Qav3vIv9s)** for an overview of the process). Each wafer contains many chips (e.g. a wafer with 300mm diameter fits several hundred laptop grade microprocessors). The chips on a finished wafer are tested to identify which are good and which are faulty. The yield of a wafer is determined by the fraction of good chips. To maximize the yield, semiconductor manufacturers are interested in identifying and correcting the causes of the faulty chips (e.g. wrong settings in one of processing steps). Some causes can be identified by visual inspection of patterns in a wafer maps, showing which chips are good and which are faulty.\n",
        "\n",
        "![wafer.png](attachment:wafer.png)\n",
        "\n",
        "In this assignment you will work with wafer map data from a semiconductor manufacturing process. Your task will be to develop a calibrated classifier for identifying patterns of faulty chips on a finished wafer. Identifying such patterns can help with optimizing the manufacturing process parameters for the following wafers."
      ]
    },
    {
      "cell_type": "markdown",
      "id": "2bab6894",
      "metadata": {
        "id": "2bab6894"
      },
      "source": [
        "#### Deliverable\n",
        "\n",
        "Throughout this notebook you will find cells starting with `#TODO` and `# // BEGIN_TODO`.\n",
        "\n",
        "- Fill in all these TODO cells. The `#TODO` cells are meant to guide you (you are strongly encouraged to fill these in!), while the `#BEGIN_TODO` _answer cells_ will be graded.\n",
        "- Answer cells start and end with tags, `# // BEGIN_TODO [Q0]` and `# // END_TODO [Q0]`, for example. Do not edit these tags in any way, or else your answers may not be processed by the grading system.\n",
        "- Be careful when importing additional libraries. The code for of your answers will be evaluated automatically and we cannot guarantee that any additional libraries will be available in that environment. Please check the Momotor output on Canvas after submitting the assignment, you should be able to see if all your code executed without errors. If in doubt, please ask your instructor.\n",
        "- You can add arbitrary many code and text cells between the `# // BEGIN_TODO` and `# // END_TODO` tags to make your code nicely readable.\n",
        "\n",
        "You are encouraged to play with the data and extend this notebook in order to obtain your answers. You may insert cells at any point in the notebook, but remember:\n",
        "<br/><br/>\n",
        "<div style=\"padding: 15px; border: 1px solid transparent; border-color: transparent; margin-bottom: 20px; border-radius: 4px; color: #a94442; background-color: #f2dede; border-color: #ebccd1;\n",
        "\">\n",
        "Only the code in your answer cells (i.e. between `# // BEGIN_TODO` and `# // END_TODO`) will be extracted and evaluated.\n",
        "</div>\n",
        "\n",
        "At the end, deliver the filled in **and executed** `.ipynb` file by submitting it to the corresponding assignment on Canvas. You may submit as many times as you like before the deadline. The last submission counts.\n",
        "\n",
        "> **IMPORTANT:** Before delivering your notebook, make sure that the cells in your notebook can be executed in sequence without errors, by executing \"Restart & Run All\" from the \"Kernel\" menu.\n",
        "\n",
        "Let's get started by filling in your details in the following answer cell. Assign your group number, your names and student ids to variables `group_number`, `name_student1`, `id_student1`, `name_student2`, `id_student2`, e.g.:\n",
        "\n",
        "```\n",
        "# // BEGIN_TODO [AUTHOR]\n",
        "group_number = \"7\"\n",
        "name_student1 = \"John Smith\"\n",
        "id_student1 = \"1234567\"\n",
        "name_student2 = \"Jane Miller\"\n",
        "id_student2 = \"7654321\"\n",
        "# // END_TODO [AUTHOR]\n",
        "```"
      ]
    },
    {
      "cell_type": "code",
      "execution_count": 1,
      "id": "dfd5121d",
      "metadata": {
        "id": "dfd5121d"
      },
      "outputs": [],
      "source": [
        "#// BEGIN_TODO [AUTHOR]\n",
        "\n",
        "group_number = \"4\"\n",
        "name_student1 = \"Silvia Sultana\"\n",
        "id_student1 = \"1594214\"\n",
        "name_student2 = \"Srinidhi Ilango\"\n",
        "id_student2 = \"1727141\"\n",
        "\n",
        "#// END_TODO [AUTHOR]"
      ]
    },
    {
      "cell_type": "markdown",
      "id": "f5849978",
      "metadata": {
        "id": "f5849978"
      },
      "source": [
        "## Import libraries\n",
        "\n",
        "Later, the code in your answer cells will be evaluated in an environment with several typical data science libraries installed, including pandas, numpy, matplotlib, sklearn. You are free to use them. If you would like to use other libraries, please contact the instructor to see if it can be accommodated. Please import any additional libraries inside your answer cells (otherwise your code may crash during evaluation)."
      ]
    },
    {
      "cell_type": "code",
      "execution_count": 2,
      "id": "3514b63e",
      "metadata": {
        "id": "3514b63e"
      },
      "outputs": [],
      "source": [
        "import pandas as pd\n",
        "import numpy as np\n",
        "import matplotlib.pyplot as plt\n",
        "import pickle"
      ]
    },
    {
      "cell_type": "markdown",
      "id": "91b7c08a",
      "metadata": {
        "id": "91b7c08a"
      },
      "source": [
        "## Load the data\n",
        "\n",
        "The data resides in the `./data/wafer_calibration.pkl` pickle file. It is based on the WM-811K dataset containing annotated wafer maps collected from real-world fabrication (see `./data/readme.txt`)."
      ]
    },
    {
      "cell_type": "code",
      "source": [
        "from google.colab import drive\n",
        "drive.mount('/content/drive')"
      ],
      "metadata": {
        "colab": {
          "base_uri": "https://localhost:8080/"
        },
        "id": "viIoWFUfEYvj",
        "outputId": "d838a6b7-ac6b-4d7c-9ad0-e0df88a8dd51"
      },
      "id": "viIoWFUfEYvj",
      "execution_count": 3,
      "outputs": [
        {
          "output_type": "stream",
          "name": "stdout",
          "text": [
            "Drive already mounted at /content/drive; to attempt to forcibly remount, call drive.mount(\"/content/drive\", force_remount=True).\n"
          ]
        }
      ]
    },
    {
      "cell_type": "code",
      "execution_count": 4,
      "id": "621ad3a6",
      "metadata": {
        "id": "621ad3a6"
      },
      "outputs": [],
      "source": [
        "with open('/content/drive/MyDrive/calibration/data/wafer.pkl', 'rb') as f:\n",
        "    X_train, X_test, y_train, y_test = pickle.load(f)"
      ]
    },
    {
      "cell_type": "markdown",
      "id": "add901ea",
      "metadata": {
        "id": "add901ea"
      },
      "source": [
        "`X` contains wafer maps and `y` contains the labels. The maps are 26x26 pixels, a pixel of value 0 represents the background, a pixel of value 1 indicates a good chip, and a pixel of value 2 indicates a bad chip. An example of a wafer map is shown below."
      ]
    },
    {
      "cell_type": "code",
      "execution_count": 5,
      "id": "20f2abd3",
      "metadata": {
        "colab": {
          "base_uri": "https://localhost:8080/",
          "height": 265
        },
        "id": "20f2abd3",
        "outputId": "4a891080-2cf0-4d7b-e31f-b5a674c63a53"
      },
      "outputs": [
        {
          "output_type": "display_data",
          "data": {
            "text/plain": [
              "<Figure size 432x288 with 1 Axes>"
            ],
            "image/png": "[encoded data removed]"
          },
          "metadata": {
            "needs_background": "light"
          }
        }
      ],
      "source": [
        "plt.imshow(X_train[0]);"
      ]
    },
    {
      "cell_type": "markdown",
      "id": "6a172029",
      "metadata": {
        "id": "6a172029"
      },
      "source": [
        "The wafer maps were labeled by human experts according to bad chip patterns, where each label is an integer:\n",
        "\n",
        "- 0: No pattern\n",
        "- 1: Center\n",
        "- 2: Donut\n",
        "- 3: Edge-local\n",
        "- 4: Edge-ring\n",
        "- 5: Local\n",
        "- 6: Near-full\n",
        "- 7: Random\n",
        "- 8: Scratch\n",
        "\n",
        "An example of the wafer map for each pattern is shown below. Note that not all patterns may be present in this particular data set. "
      ]
    },
    {
      "cell_type": "code",
      "execution_count": 6,
      "id": "837764b4",
      "metadata": {
        "colab": {
          "base_uri": "https://localhost:8080/",
          "height": 146
        },
        "id": "837764b4",
        "outputId": "3715abed-0147-404d-d657-05f13c75b67b"
      },
      "outputs": [
        {
          "output_type": "display_data",
          "data": {
            "text/plain": [
              "<Figure size 864x360 with 6 Axes>"
            ],
            "image/png": "[encoded data removed]"
          },
          "metadata": {}
        }
      ],
      "source": [
        "unique_classes, class_indexes = np.unique(y_train,return_index=True)\n",
        "class_names = [\"No pattern\", \"Center\", \"Donut\", \"Edge-local\", \"Edge-ring\", \"Local\", \"Near-full\", \"Random\", \"Scratch\"]\n",
        "fig, axes = plt.subplots(1,len(unique_classes), figsize = (12,5))\n",
        "for num_index, index in enumerate(class_indexes):\n",
        "    axes[num_index].imshow(X_train[index])\n",
        "    axes[num_index].set_title(class_names[unique_classes[num_index]])\n",
        "    axes[num_index].set_xticks([])\n",
        "    axes[num_index].set_yticks([])"
      ]
    },
    {
      "cell_type": "markdown",
      "id": "356882ba",
      "metadata": {
        "id": "356882ba"
      },
      "source": [
        "## Train a classifier\n",
        "\n",
        "In this part you will implement a classifier, which will be used later for evaluating your calibration method.\n",
        "\n",
        "First, start by exploring the data. Remember, you can add as many code and markdown cells as you like."
      ]
    },
    {
      "cell_type": "code",
      "execution_count": 7,
      "id": "fa97794b",
      "metadata": {
        "colab": {
          "base_uri": "https://localhost:8080/"
        },
        "id": "fa97794b",
        "outputId": "24bac1c1-a234-4cd6-b367-b0be74dd4667"
      },
      "outputs": [
        {
          "output_type": "stream",
          "name": "stdout",
          "text": [
            "Shape: (4310, 26, 26)\n",
            "Non-zero vs zero: (431, 3879)\n"
          ]
        }
      ],
      "source": [
        "# TODO: Explore the data\n",
        "print(f\"Shape: {X_train.shape}\")\n",
        "print(f\"Non-zero vs zero: {np.count_nonzero(y_train), np.count_nonzero(y_train==0)}\")"
      ]
    },
    {
      "cell_type": "markdown",
      "id": "15945f0c",
      "metadata": {
        "id": "15945f0c"
      },
      "source": [
        "In the first part of this assignment the aim is to identify whether the wafer map contains any known patterns or not. We therefore treat it as a binary classification problem and replace labels other than 0 to 1."
      ]
    },
    {
      "cell_type": "code",
      "execution_count": 8,
      "id": "420f1d2a",
      "metadata": {
        "id": "420f1d2a"
      },
      "outputs": [],
      "source": [
        "y_binary_train = np.copy(y_train)\n",
        "y_binary_train[y_binary_train != 0] = 1\n",
        "\n",
        "y_binary_test = np.copy(y_test)\n",
        "y_binary_test[y_binary_test != 0] = 1"
      ]
    },
    {
      "cell_type": "code",
      "source": [
        "#creating a validation set from the train set itself\n",
        "\n",
        "from sklearn.model_selection import train_test_split\n",
        "\n",
        "X_train, X_val, y_binary_train, y_binary_val = train_test_split(X_train, y_binary_train, test_size = 0.1, random_state =42)\n"
      ],
      "metadata": {
        "id": "dVX15cyNE1rS"
      },
      "id": "dVX15cyNE1rS",
      "execution_count": 9,
      "outputs": []
    },
    {
      "cell_type": "code",
      "source": [
        "print(f'The shape of the validation data is {X_val.shape}') \n",
        "print(f'The shape of the validation labels is {y_binary_val.shape}')\n",
        "print(f'The shape of a wafer image in validation dataset is {X_val[0].shape}')\n",
        "print(f'The shape of the new train data is {X_train.shape}')"
      ],
      "metadata": {
        "colab": {
          "base_uri": "https://localhost:8080/"
        },
        "id": "MzXlePXcOntb",
        "outputId": "f266a5d8-310f-4992-c5bd-cab9ccb7fadc"
      },
      "id": "MzXlePXcOntb",
      "execution_count": 10,
      "outputs": [
        {
          "output_type": "stream",
          "name": "stdout",
          "text": [
            "The shape of the validation data is (431, 26, 26)\n",
            "The shape of the validation labels is (431,)\n",
            "The shape of a wafer image in validation dataset is (26, 26)\n",
            "The shape of the new train data is (3879, 26, 26)\n"
          ]
        }
      ]
    },
    {
      "cell_type": "markdown",
      "id": "5ff8447f",
      "metadata": {
        "id": "5ff8447f"
      },
      "source": [
        "#### Step 1\n",
        "\n",
        "Choose a metric for evaluating the classifier's generalization performance and assign your choice to a string variable `classifier_metric_choice`. Motivate the choice (including the hyper-parameters, if any) in a string variable `classifier_metric_motivation` (max 800 characters). Describe how you decide based on this metric if a classifier is sufficiently calibrated in a string variable `classifier_metric_decision` (max 200 characters)."
      ]
    },
    {
      "cell_type": "code",
      "execution_count": 11,
      "id": "5ddb1c15",
      "metadata": {
        "id": "5ddb1c15"
      },
      "outputs": [],
      "source": [
        "#// BEGIN_TODO [STEP_1] Choose a classifier metric (5 points)\n",
        "classifier_metric_choice = \"\"\n",
        "\n",
        "classifier_metric_motivation = \"\"\n",
        "\n",
        "classifier_metric_decision = \"\""
      ]
    },
    {
      "cell_type": "markdown",
      "id": "16c48850",
      "metadata": {
        "id": "16c48850"
      },
      "source": [
        "`#TODO`: things to address: class imbalance - task is to detect presence of known pattern. We assume it is important to detect faulty chips, i.e. false positives are fine but false negatives are not (classifying defective chip as non-defective is expensive). Therefore, we choose Recall which is TPR. - Explain c and gamma (used Grid search), balanced classifier since there is class imbalance."
      ]
    },
    {
      "cell_type": "code",
      "execution_count": 12,
      "id": "4a25860f",
      "metadata": {
        "id": "4a25860f"
      },
      "outputs": [],
      "source": [
        "#// END_TODO [STEP_1]"
      ]
    },
    {
      "cell_type": "markdown",
      "id": "40f555f2",
      "metadata": {
        "id": "40f555f2"
      },
      "source": [
        "#### Step 2\n",
        "\n",
        "Train a binary classifier on the training set `X_train` and `y_train`. You are free to chose any model and data preprocessing method, as long as:\n",
        "\n",
        "- your classifier outputs the predicted class (0 or 1) and the confidence estimate of the positive class,\n",
        "- your submission executes within 10 minutes on Momotor,\n",
        "- you use the libraries available on Momotor (if you would like to use other libraries, please contact the instructor to see if it can be accommodated).\n",
        "\n",
        "Evaluate your trained model on the test set `X_test` and `y_test`. What do you observe? How do you know that your model is well trained? Assign your answer to a string variable `observation_classifier` (max 600 characters).\n",
        "\n",
        "Apply the classifier to the `X_test` data and store the predicted classes and confidence estimate in the variables `uncalibrated_y` and `uncalibrated_p`, respectively:\n",
        "\n",
        "- `uncalibrated_y` should be a `np.ndarray` of shape $[N,]$ and `dtype` of `np.int32`, where $N$ is the number of samples and each value is the predicted class,\n",
        "- `uncalibrated_p` should be a `np.ndarray` of shape $[N,]$ and `dtype` of `np.float32`, where each value is the classifier's confidence in the positive class."
      ]
    },
    {
      "cell_type": "code",
      "execution_count": 137,
      "id": "074a3c50",
      "metadata": {
        "id": "074a3c50"
      },
      "outputs": [],
      "source": [
        "#// BEGIN_TODO [STEP_2] Train a binary classifier (10 points)\n",
        "from sklearn.svm import SVC\n",
        "\n",
        "def preprocess(arr):\n",
        "    arr = arr.reshape(len(arr), -1)\n",
        "    arr = arr/2\n",
        "    return arr\n",
        "\n",
        "c= 100\n",
        "gamma = 0.001\n",
        "\n",
        "#TODO: make pipelie of the following steps later\n",
        "preprocess_arr = preprocess(X_train)"
      ]
    },
    {
      "cell_type": "code",
      "execution_count": 171,
      "id": "077af4b0",
      "metadata": {
        "colab": {
          "base_uri": "https://localhost:8080/"
        },
        "id": "077af4b0",
        "outputId": "2006b827-2ff7-4c74-9da8-d049765cb234"
      },
      "outputs": [
        {
          "output_type": "execute_result",
          "data": {
            "text/plain": [
              "SVC(C=100, class_weight='balanced', gamma=0.001, probability=True)"
            ]
          },
          "metadata": {},
          "execution_count": 171
        }
      ],
      "source": [
        "clf = SVC(kernel='rbf',gamma = gamma, C = c, class_weight = 'balanced', probability=True)\n",
        "\n",
        "clf.fit(preprocess_arr, y_binary_train)"
      ]
    },
    {
      "cell_type": "code",
      "execution_count": 172,
      "id": "0de3e2de",
      "metadata": {
        "colab": {
          "base_uri": "https://localhost:8080/"
        },
        "id": "0de3e2de",
        "outputId": "472daf73-ce95-44c1-97e9-e6dbc5fbd32f"
      },
      "outputs": [
        {
          "output_type": "execute_result",
          "data": {
            "text/plain": [
              "((1990,), dtype('int32'))"
            ]
          },
          "metadata": {},
          "execution_count": 172
        }
      ],
      "source": [
        "# predicted label on test set in specific format\n",
        "uncalibrated_y = clf.predict(preprocess(X_test))\n",
        "uncalibrated_y = uncalibrated_y.astype('int32')\n",
        "uncalibrated_y.shape, uncalibrated_y.dtype"
      ]
    },
    {
      "cell_type": "code",
      "execution_count": 173,
      "id": "6615b2c8",
      "metadata": {
        "id": "6615b2c8"
      },
      "outputs": [],
      "source": [
        "# predicted confidence (probablity estimate)\n",
        "preds = clf.predict_proba(preprocess(X_test))"
      ]
    },
    {
      "cell_type": "code",
      "execution_count": 174,
      "id": "6c44ac0a",
      "metadata": {
        "colab": {
          "base_uri": "https://localhost:8080/"
        },
        "id": "6c44ac0a",
        "outputId": "a3268476-bd30-4820-f63c-78fe11fe2ec8"
      },
      "outputs": [
        {
          "output_type": "execute_result",
          "data": {
            "text/plain": [
              "((1990,), dtype('float32'))"
            ]
          },
          "metadata": {},
          "execution_count": 174
        }
      ],
      "source": [
        "# assuming positive class to be 1\n",
        "uncalibrated_p = preds[:,1]\n",
        "uncalibrated_p = uncalibrated_p.astype('float32')\n",
        "\n",
        "uncalibrated_p.shape, uncalibrated_p.dtype"
      ]
    },
    {
      "cell_type": "code",
      "execution_count": 175,
      "id": "2a5ab7ba",
      "metadata": {
        "id": "2a5ab7ba"
      },
      "outputs": [],
      "source": [
        "# TODO: interpret the model performance in the below variable\n",
        "observation_classifier = \"\""
      ]
    },
    {
      "cell_type": "code",
      "source": [
        "\n",
        "#predicted probabilities on valid set\n",
        "\n",
        "preds_valid=clf.predict_proba(preprocess(X_val))\n",
        "uncalibrated_p_valid = preds_valid[:,1]\n",
        "uncalibrated_p_valid = uncalibrated_p_valid.astype('float32')\n",
        "\n",
        "#predicted class values\n",
        "uncalibrated_y_valid = clf.predict(preprocess(X_val))\n",
        "uncalibrated_y_valid = uncalibrated_y_valid.astype('int32')\n"
      ],
      "metadata": {
        "id": "s9-AmL1CihiS"
      },
      "id": "s9-AmL1CihiS",
      "execution_count": 176,
      "outputs": []
    },
    {
      "cell_type": "code",
      "execution_count": 177,
      "id": "291017db",
      "metadata": {
        "id": "291017db"
      },
      "outputs": [],
      "source": [
        "#// END_TODO [STEP_2]"
      ]
    },
    {
      "cell_type": "markdown",
      "id": "654c3caa",
      "metadata": {
        "id": "654c3caa"
      },
      "source": [
        "## Measure and visualize calibration"
      ]
    },
    {
      "cell_type": "markdown",
      "id": "336c9fcc",
      "metadata": {
        "id": "336c9fcc"
      },
      "source": [
        "#### Step 3\n",
        "\n",
        "Visualize the calibration of your trained model using a reliability diagram. Describe your observations in the variable `observation_uncalibrated` (max 1000 characters)."
      ]
    },
    {
      "cell_type": "code",
      "source": [
        "import numpy as np\n",
        "np.seterr(divide='ignore', invalid='ignore')"
      ],
      "metadata": {
        "colab": {
          "base_uri": "https://localhost:8080/"
        },
        "id": "fmQXW2RBlm42",
        "outputId": "917580e2-5d6c-4c18-c9c2-4dd44fd1f89b"
      },
      "id": "fmQXW2RBlm42",
      "execution_count": 178,
      "outputs": [
        {
          "output_type": "execute_result",
          "data": {
            "text/plain": [
              "{'divide': 'ignore', 'over': 'warn', 'under': 'ignore', 'invalid': 'ignore'}"
            ]
          },
          "metadata": {},
          "execution_count": 178
        }
      ]
    },
    {
      "cell_type": "code",
      "source": [
        "from sklearn.calibration import calibration_curve, CalibrationDisplay\n",
        "\n",
        "\n",
        "prob_true, prob_pred = calibration_curve(y_binary_test,uncalibrated_p, n_bins=10)\n",
        "print(f'True Probability of example sample : {prob_true[1]}')\n",
        "print(f'Predicted Probability of example sample: {prob_pred[1]}')\n",
        "print(f'SVM Predicted Probability of example sample: {uncalibrated_p[1]}')\n",
        "disp = CalibrationDisplay(prob_true, prob_pred,uncalibrated_p )\n",
        "disp.plot()"
      ],
      "metadata": {
        "colab": {
          "base_uri": "https://localhost:8080/",
          "height": 348
        },
        "id": "P6guG8KLn6Hi",
        "outputId": "cf992ffd-2adb-48fd-fa0a-f51892550817"
      },
      "id": "P6guG8KLn6Hi",
      "execution_count": 179,
      "outputs": [
        {
          "output_type": "stream",
          "name": "stdout",
          "text": [
            "True Probability of example sample : 0.10526315789473684\n",
            "Predicted Probability of example sample: 0.13882380783926962\n",
            "SVM Predicted Probability of example sample: 0.12500359117984772\n"
          ]
        },
        {
          "output_type": "execute_result",
          "data": {
            "text/plain": [
              "<sklearn.calibration.CalibrationDisplay at 0x7fe3a3b739d0>"
            ]
          },
          "metadata": {},
          "execution_count": 179
        },
        {
          "output_type": "display_data",
          "data": {
            "text/plain": [
              "<Figure size 432x288 with 1 Axes>"
            ],
            "image/png": "[encoded data removed]"
          },
          "metadata": {
            "needs_background": "light"
          }
        }
      ]
    },
    {
      "cell_type": "code",
      "execution_count": 180,
      "id": "d5ba83de",
      "metadata": {
        "id": "d5ba83de"
      },
      "outputs": [],
      "source": [
        "#// BEGIN_TODO [STEP_3] Visualize calibration of uncalibrated model (5 points)\n",
        "\n",
        "# import numpy as np\n",
        "# from sklearn.calibration import calibration_curve\n",
        "# from matplotlib import pyplot as plt \n",
        "\n",
        "# # reliability diagram\n",
        "# true_prob, pred_prob = calibration_curve(y_binary_test, uncalibrated_p, n_bins=10, normalize=True)\n",
        "# # plot perfectly calibrated\n",
        "# plt.plot([0, 1], [0, 1], linestyle='--')\n",
        "# # plot model reliability\n",
        "# plt.plot(pred_prob, true_prob, marker='.')\n",
        "# plt.show()\n",
        "# #TODO: add title and axis labels"
      ]
    },
    {
      "cell_type": "code",
      "execution_count": 181,
      "id": "e61d0ab8",
      "metadata": {
        "id": "e61d0ab8"
      },
      "outputs": [],
      "source": [
        "observation_uncalibrated = \"\""
      ]
    },
    {
      "cell_type": "code",
      "execution_count": 182,
      "id": "cd674c35",
      "metadata": {
        "id": "cd674c35"
      },
      "outputs": [],
      "source": [
        "#// END_TODO [STEP_3]"
      ]
    },
    {
      "cell_type": "markdown",
      "id": "fc6bbb64",
      "metadata": {
        "id": "fc6bbb64"
      },
      "source": [
        "#### Step 4\n",
        "\n",
        "Choose a calibration metric and assign its name to a string variable `binary_metric_choice`. Motivate the choice (including the hyper-parameters, if any) in a string variable `binary_metric_motivation` (max 800 characters). Describe how you decide based on this metric if a classifier is sufficiently calibrated in a string variable `binary_metric_decision` (max 200 characters)."
      ]
    },
    {
      "cell_type": "code",
      "execution_count": 183,
      "id": "8ae00973",
      "metadata": {
        "id": "8ae00973"
      },
      "outputs": [],
      "source": [
        "#// BEGIN_TODO [STEP_4] Choose a calibration metric (5 points)\n",
        "\n",
        "binary_metric_choice = \"RMSE\"\n",
        "\n",
        "binary_metric_motivation = \"\"\n",
        "\n",
        "binary_metric_decision = \"\""
      ]
    },
    {
      "cell_type": "code",
      "execution_count": 184,
      "id": "6bc913ea",
      "metadata": {
        "id": "6bc913ea"
      },
      "outputs": [],
      "source": [
        "#// END_TODO [STEP_4]\n"
      ]
    },
    {
      "cell_type": "markdown",
      "id": "01295925",
      "metadata": {
        "id": "01295925"
      },
      "source": [
        "#### Step 5\n",
        "\n",
        "Implement the chosen calibration metric. It should be a Python class with the following method:\n",
        "\n",
        "- `score(self, p, y)`, where\n",
        "    - `p` is an `np.ndarray` of shape $[N,]$ with the confidence estimates of the *positive class* for $N$ samples.\n",
        "    - `y` is an `np.ndarray` of shape $[N,]$ with the corresponding true labels (0 or 1).\n",
        "    - It returns a `np.float` number with the calibration error.\n",
        "\n",
        "Instantiate the class (setting any relevant hyper-parameters) and assign it to the variable `binary_metric`.\n",
        "\n",
        "Measure the calibration error of your model on `X_test` and `y_test` and assign the result to the variable `binary_uncalibrated`."
      ]
    },
    {
      "cell_type": "code",
      "execution_count": 185,
      "id": "59a820dd",
      "metadata": {
        "colab": {
          "base_uri": "https://localhost:8080/"
        },
        "id": "59a820dd",
        "outputId": "e622b9b2-a637-4de8-9e64-6e398ba6a739"
      },
      "outputs": [
        {
          "output_type": "execute_result",
          "data": {
            "text/plain": [
              "0.01713115775339942"
            ]
          },
          "metadata": {},
          "execution_count": 185
        }
      ],
      "source": [
        "#// BEGIN_TODO [STEP_5] Implement the calibration metric (5 points)\n",
        "\n",
        "class RMSE:\n",
        "\n",
        "    def score(self, p, y):\n",
        "        n_bins = 10\n",
        "        N = len(uncalibrated_p)\n",
        "        sorted_index_p = np.argsort(p)\n",
        "        index_bins = np.array_split(sorted_index_p, n_bins)\n",
        "        rmse = 0.0\n",
        "        \n",
        "        for bm in index_bins:\n",
        "            bin_len = len(bm)\n",
        "            bin_conf = np.take(p, bm).mean()\n",
        "            bin_frac = np.take(y, bm).mean()\n",
        "            rmse +=  bin_len/N * (np.absolute(bin_frac - bin_conf))\n",
        "        \n",
        "        return rmse\n",
        "\n",
        "binary_metric = RMSE()\n",
        "binary_uncalibrated = binary_metric.score(uncalibrated_p, y_binary_test)\n",
        "binary_uncalibrated"
      ]
    },
    {
      "cell_type": "markdown",
      "id": "18027935",
      "metadata": {
        "id": "18027935"
      },
      "source": [
        "https://github.com/sirius8050/Expected-Calibration-Error/blob/master/ECE.py"
      ]
    },
    {
      "cell_type": "code",
      "execution_count": 186,
      "id": "26c6b216",
      "metadata": {
        "colab": {
          "base_uri": "https://localhost:8080/"
        },
        "id": "26c6b216",
        "outputId": "8122c521-b903-4665-ac70-aa3bd0486f81"
      },
      "outputs": [
        {
          "output_type": "execute_result",
          "data": {
            "text/plain": [
              "5.006779397103056e-05"
            ]
          },
          "metadata": {},
          "execution_count": 186
        }
      ],
      "source": [
        "# len(np.array_split(uncalibrated_p))\n",
        "import math\n",
        "N = len(uncalibrated_p)\n",
        "\n",
        "sorted_index_p = np.argsort(uncalibrated_p)\n",
        "index_bins = np.array_split(sorted_index_p, 100)\n",
        "# (np.take(y_binary_test, index_bins[0]).mean()**2 - np.take(uncalibrated_p, index_bins[0]).mean()**2)\n",
        "bin_len = len(index_bins[0])\n",
        "bin_conf = np.take(uncalibrated_p, index_bins[0]).mean()\n",
        "bin_frac = np.take(y_binary_test, index_bins[0]).mean()\n",
        "\n",
        "bin_len/N * np.absolute(bin_frac - bin_conf)"
      ]
    },
    {
      "cell_type": "code",
      "execution_count": 187,
      "id": "555b7ca5",
      "metadata": {
        "colab": {
          "base_uri": "https://localhost:8080/"
        },
        "id": "555b7ca5",
        "outputId": "0ebcc8ce-7b1c-4819-95a6-956fb5abba2f"
      },
      "outputs": [
        {
          "output_type": "stream",
          "name": "stdout",
          "text": [
            "0.05611182096569286\n"
          ]
        },
        {
          "output_type": "execute_result",
          "data": {
            "text/plain": [
              "(None, numpy.float64)"
            ]
          },
          "metadata": {},
          "execution_count": 187
        }
      ],
      "source": [
        "N = len(uncalibrated_p)\n",
        "\n",
        "# https://docs.scipy.org/doc/scipy/reference/generated/scipy.stats.binned_statistic.html \n",
        "\n",
        "sorted_index_p = np.argsort(uncalibrated_p)\n",
        "index_bins = np.array_split(sorted_index_p, 100)\n",
        "ece = 0.0\n",
        "for bm in index_bins:\n",
        "    bin_len = len(bm)\n",
        "    bin_conf = np.take(uncalibrated_p, bm).mean()\n",
        "    bin_frac = np.take(y_binary_test, bm).mean()\n",
        "    ece +=  bin_len/N * (np.absolute(bin_frac - bin_conf))**2\n",
        "\n",
        "print(ece**0.5), type(ece)"
      ]
    },
    {
      "cell_type": "code",
      "execution_count": 188,
      "id": "b97bac44",
      "metadata": {
        "id": "b97bac44"
      },
      "outputs": [],
      "source": [
        "#// END_TODO [STEP_5]"
      ]
    },
    {
      "cell_type": "markdown",
      "id": "d4e1b7b9",
      "metadata": {
        "id": "d4e1b7b9"
      },
      "source": [
        "## Calibrate the classifer"
      ]
    },
    {
      "cell_type": "markdown",
      "id": "1276d99d",
      "metadata": {
        "id": "1276d99d"
      },
      "source": [
        "#### Step 6\n",
        "\n",
        "Implement at least two calibration methods. Each calibration method should be a Python class with the following methods:\n",
        "\n",
        "- `fit(self, p, y)`, where \n",
        "    - `p` is an `np.ndarray` of shape $[N,]$ with the confidence estimates of the *positive class* for $N$ samples.\n",
        "    - `y` is an `np.ndarray` of shape $[N,]$ with the corresponding true labels (0 or 1).\n",
        "    - It fits the calibration model and returns a reference to `self`.\n",
        "- `predict_proba(self, p)`, where\n",
        "    - `p` is an `np.ndarray` of shape $[N,]$ with confidence estimates of the *positive class* for $N$ samples.\n",
        "    - It returns an `np.ndarray` of shape $[N,]$ with the calibrated confidence estimates for each sample in `p`.\n",
        "\n",
        "> **IMPORTANT:** You are not allowed to use the `sklearn.calibration.CalibratedClassifierCV()` method.\n",
        "\n",
        "Instantiate the calibration methods (setting any relevant hyper-parameters) and assign them to a list variable `binary_calibrators`."
      ]
    },
    {
      "cell_type": "code",
      "execution_count": 189,
      "id": "42dd91c3",
      "metadata": {
        "id": "42dd91c3"
      },
      "outputs": [],
      "source": [
        "#// BEGIN_TODO [STEP_6] Implement calibration methods (10 points)\n",
        "\n",
        "from sklearn.isotonic import IsotonicRegression\n",
        "class IR_calibrator:\n",
        "\n",
        "  def fit(self,p,y):\n",
        "    # self.p = p\n",
        "    # self.y = y\n",
        "    self.ir_calibrator = IsotonicRegression(out_of_bounds = 'clip').fit(p,y)\n",
        "    return self\n",
        "  \n",
        "  def predict_proba(self,p):\n",
        "    conf_est = self.ir_calibrator.transform(p)\n",
        "    return conf_est\n"
      ]
    },
    {
      "cell_type": "code",
      "source": [
        "y_binary_val[1:10],uncalibrated_p_valid[1:10]"
      ],
      "metadata": {
        "colab": {
          "base_uri": "https://localhost:8080/"
        },
        "id": "LmBxCrt_sgnn",
        "outputId": "2b53241d-82a4-440c-dada-ba0a6c877724"
      },
      "id": "LmBxCrt_sgnn",
      "execution_count": 190,
      "outputs": [
        {
          "output_type": "execute_result",
          "data": {
            "text/plain": [
              "(array([0, 0, 1, 1, 0, 0, 0, 0, 0], dtype=int8),\n",
              " array([0.11228985, 0.00976607, 0.01724922, 0.72980976, 0.0257022 ,\n",
              "        0.02493455, 0.0718506 , 0.00918527, 0.09809751], dtype=float32))"
            ]
          },
          "metadata": {},
          "execution_count": 190
        }
      ]
    },
    {
      "cell_type": "code",
      "source": [
        "#calibration using isotonic calibrator\n",
        "\n",
        "#prob_true, prob_pred = calibration_curve(y_binary_valid, uncalibrated_p_valid, n_bins=10)\n",
        "\n",
        "ir_calib=IR_calibrator()\n",
        "ir_calib.fit(uncalibrated_p_valid,y_binary_val)\n",
        "calibrated_p_iso = ir_calib.predict_proba(uncalibrated_p)\n",
        "\n"
      ],
      "metadata": {
        "id": "yspOnQpwX1pk"
      },
      "id": "yspOnQpwX1pk",
      "execution_count": 191,
      "outputs": []
    },
    {
      "cell_type": "code",
      "source": [
        "binary_metric = RMSE()\n",
        "binary_calib_iso = binary_metric.score(calibrated_p_iso, y_binary_test)\n",
        "binary_calib_iso"
      ],
      "metadata": {
        "colab": {
          "base_uri": "https://localhost:8080/"
        },
        "id": "JU4ItPA2o0Kq",
        "outputId": "51d258fd-274d-4594-a1a2-545f41dc2673"
      },
      "id": "JU4ItPA2o0Kq",
      "execution_count": 192,
      "outputs": [
        {
          "output_type": "execute_result",
          "data": {
            "text/plain": [
              "0.011137624614258955"
            ]
          },
          "metadata": {},
          "execution_count": 192
        }
      ]
    },
    {
      "cell_type": "code",
      "source": [
        "from sklearn.calibration import calibration_curve, CalibrationDisplay\n",
        "\n",
        "\n",
        "prob_true_1, prob_pred_1 = calibration_curve(y_binary_test,calibrated_p_iso, n_bins=10)\n",
        "disp_2 = CalibrationDisplay(prob_true_1, prob_pred_1,calibrated_p_iso )\n",
        "disp_2.plot()"
      ],
      "metadata": {
        "colab": {
          "base_uri": "https://localhost:8080/",
          "height": 296
        },
        "id": "w0Ak2nUEkeGF",
        "outputId": "87047373-f046-411c-e0ae-c94932982928"
      },
      "id": "w0Ak2nUEkeGF",
      "execution_count": 193,
      "outputs": [
        {
          "output_type": "execute_result",
          "data": {
            "text/plain": [
              "<sklearn.calibration.CalibrationDisplay at 0x7fe3a3a6e310>"
            ]
          },
          "metadata": {},
          "execution_count": 193
        },
        {
          "output_type": "display_data",
          "data": {
            "text/plain": [
              "<Figure size 432x288 with 1 Axes>"
            ],
            "image/png": "[encoded data removed]"
          },
          "metadata": {
            "needs_background": "light"
          }
        }
      ]
    },
    {
      "cell_type": "markdown",
      "source": [
        "https://wttech.blog/blog/2021/a-guide-to-model-calibration/\n",
        "\n",
        "Platt Scaling code reference"
      ],
      "metadata": {
        "id": "3LeNGQ5otfxR"
      },
      "id": "3LeNGQ5otfxR"
    },
    {
      "cell_type": "code",
      "source": [
        "from sklearn.linear_model._glm.glm import BaseEstimator\n",
        "from sklearn.linear_model import LogisticRegression\n",
        "\n",
        "class PlattCalibrator(BaseEstimator):\n",
        "  def __init__(self,c:int=1e10):\n",
        "    self.c=c\n",
        "  \n",
        "  def fit(self,p:np.ndarray, y :np.ndarray):\n",
        "    logistic=LogisticRegression(C=self.c,solver='lbfgs')\n",
        "    logistic.fit(p.reshape(-1,1),y)\n",
        "    self.coef_=logistic.coef_[0]\n",
        "    self.intercept_=logistic.intercept_\n",
        "    return self\n",
        "  \n",
        "  def predict_proba(self,p:np.ndarray)->np.ndarray:\n",
        "    output=p*self.coef_[0]+self.intercept_\n",
        "    output=1/(1+np.exp(-output))\n",
        "    return output\n",
        "\n"
      ],
      "metadata": {
        "id": "gmFjHywyMoHB"
      },
      "id": "gmFjHywyMoHB",
      "execution_count": 194,
      "outputs": []
    },
    {
      "cell_type": "code",
      "source": [
        "platt= PlattCalibrator(c=1e10)\n",
        "platt.fit(uncalibrated_p_valid,y_binary_val)\n",
        "platt_probs=platt.predict_proba(uncalibrated_p)"
      ],
      "metadata": {
        "id": "1kZBzvuFN5to"
      },
      "id": "1kZBzvuFN5to",
      "execution_count": 195,
      "outputs": []
    },
    {
      "cell_type": "code",
      "source": [
        "prob_true,prob_pred=calibration_curve(y_binary_test,platt_probs,n_bins=10)\n",
        "platt_display = CalibrationDisplay(prob_true,prob_pred,platt_probs)\n",
        "platt_display.plot()"
      ],
      "metadata": {
        "colab": {
          "base_uri": "https://localhost:8080/",
          "height": 296
        },
        "id": "twgYDEhVOLXC",
        "outputId": "1d407fd5-cc0b-4db7-b959-5c73e3cb16e4"
      },
      "id": "twgYDEhVOLXC",
      "execution_count": 196,
      "outputs": [
        {
          "output_type": "execute_result",
          "data": {
            "text/plain": [
              "<sklearn.calibration.CalibrationDisplay at 0x7fe3a3a4a210>"
            ]
          },
          "metadata": {},
          "execution_count": 196
        },
        {
          "output_type": "display_data",
          "data": {
            "text/plain": [
              "<Figure size 432x288 with 1 Axes>"
            ],
            "image/png": "[encoded data removed]"
          },
          "metadata": {
            "needs_background": "light"
          }
        }
      ]
    },
    {
      "cell_type": "code",
      "source": [
        "platt_metric = RMSE()\n",
        "platt_ece = binary_metric.score(platt_probs, y_binary_test)\n",
        "platt_ece"
      ],
      "metadata": {
        "colab": {
          "base_uri": "https://localhost:8080/"
        },
        "id": "Jmvk0DQ2OoNf",
        "outputId": "252fa428-cabb-4795-c1f7-22377f2ed2de"
      },
      "id": "Jmvk0DQ2OoNf",
      "execution_count": 197,
      "outputs": [
        {
          "output_type": "execute_result",
          "data": {
            "text/plain": [
              "0.018074593617818723"
            ]
          },
          "metadata": {},
          "execution_count": 197
        }
      ]
    },
    {
      "cell_type": "code",
      "source": [
        "#platt scaling method \n",
        "from sklearn.linear_model import LinearRegression \n",
        "class PlattScaling:\n",
        "    def __init__(self, prob_pred, prob_true):\n",
        "        prob_pred, prob_true = self._filter_out_of_domain(prob_pred, prob_true)\n",
        "        prob_true = np.log(prob_true / (1 - prob_true))\n",
        "        self.regressor = LinearRegression().fit(prob_pred.reshape(-1, 1), prob_true.reshape(-1, 1))\n",
        "\n",
        "    def calibrate(self, probabilities): #basically a sigmoid function i guess?\n",
        "        return 1 / (1 + np.exp(-self.regressor.predict(probabilities.reshape(-1, 1)).flatten()))\n",
        "\n",
        "    def _filter_out_of_domain(self, prob_pred, prob_true):\n",
        "        filtered = list(zip(*[p for p in zip(prob_pred, prob_true) if 0 < p[1] < 1]))\n",
        "        return np.array(filtered)"
      ],
      "metadata": {
        "id": "NTVLhQ0toGlo"
      },
      "id": "NTVLhQ0toGlo",
      "execution_count": 127,
      "outputs": []
    },
    {
      "cell_type": "code",
      "source": [
        "prob_true_2, prob_pred_2 = calibration_curve(y_binary_val, uncalibrated_y_valid, n_bins=10)\n",
        "y_binary_val.shape, uncalibrated_y_valid.shape\n",
        "prob_true_2"
      ],
      "metadata": {
        "colab": {
          "base_uri": "https://localhost:8080/"
        },
        "id": "NKlenC87oMKL",
        "outputId": "8f07cd9f-7f95-46a0-93f3-fb4daa3283bb"
      },
      "id": "NKlenC87oMKL",
      "execution_count": 128,
      "outputs": [
        {
          "output_type": "execute_result",
          "data": {
            "text/plain": [
              "array([0.03571429, 0.40298507])"
            ]
          },
          "metadata": {},
          "execution_count": 128
        }
      ]
    },
    {
      "cell_type": "code",
      "source": [
        "calibration = PlattScaling(prob_pred_2,prob_true_2 )\n",
        "calibrated_p_platt=calibration.calibrate(uncalibrated_p)"
      ],
      "metadata": {
        "id": "60ahTmvzqe8f"
      },
      "id": "60ahTmvzqe8f",
      "execution_count": 130,
      "outputs": []
    },
    {
      "cell_type": "code",
      "source": [
        "binary_metric = RMSE()\n",
        "binary_calib_platt = binary_metric.score(calibrated_p_platt, y_binary_test)\n",
        "binary_calib_platt"
      ],
      "metadata": {
        "colab": {
          "base_uri": "https://localhost:8080/"
        },
        "id": "MuE_Vn8xpDRx",
        "outputId": "be6a7b32-26da-4919-d31a-bc67ccdbd424"
      },
      "id": "MuE_Vn8xpDRx",
      "execution_count": 131,
      "outputs": [
        {
          "output_type": "execute_result",
          "data": {
            "text/plain": [
              "0.06108443411178387"
            ]
          },
          "metadata": {},
          "execution_count": 131
        }
      ]
    },
    {
      "cell_type": "code",
      "source": [
        "from sklearn.calibration import calibration_curve, CalibrationDisplay\n",
        "\n",
        "prob_true_3, prob_pred_3 = calibration_curve(y_binary_test, uncalibrated_p, n_bins=10)\n",
        "disp_3 = CalibrationDisplay(prob_true_3, prob_pred_3,calibrated_p_platt )\n",
        "disp_3.plot()"
      ],
      "metadata": {
        "colab": {
          "base_uri": "https://localhost:8080/",
          "height": 296
        },
        "id": "F_zOrq-zsjd5",
        "outputId": "793e81a5-3c04-429a-ba7b-7575d53afb36"
      },
      "id": "F_zOrq-zsjd5",
      "execution_count": 132,
      "outputs": [
        {
          "output_type": "execute_result",
          "data": {
            "text/plain": [
              "<sklearn.calibration.CalibrationDisplay at 0x7fe3a3fc5510>"
            ]
          },
          "metadata": {},
          "execution_count": 132
        },
        {
          "output_type": "display_data",
          "data": {
            "text/plain": [
              "<Figure size 432x288 with 1 Axes>"
            ],
            "image/png": "[encoded data removed]"
          },
          "metadata": {
            "needs_background": "light"
          }
        }
      ]
    },
    {
      "cell_type": "code",
      "execution_count": null,
      "id": "bf0433d1",
      "metadata": {
        "id": "bf0433d1"
      },
      "outputs": [],
      "source": [
        "from scipy.optimize import minimize\n",
        "\n",
        "class HB_calibrator:\n",
        "\n",
        "    def fit(self, p, y):\n",
        "        bins = 10\n",
        "        self.sorted_p = np.sort(p)\n",
        "        self.proba_bins = np.array_split(self.sorted_p, bins)\n",
        "        \n",
        "        fun =  lambda theta: np.sum([np.sum((theta[m] - self.proba_bins[m])**2) for m in range(bins)])\n",
        "        self.opt = minimize(fun, x0 = np.zeros(10),method='nelder-mead')      \n",
        "        return self\n",
        "\n",
        "    def predict_proba(self, p):\n",
        "        insert_index = np.searchsorted(self.sorted_p, p,side = 'left')\n",
        "        bin_len = len(self.proba_bins[0])\n",
        "        bin_index = insert_index // bin_len\n",
        "        bin_score = np.take(self.opt.x,bin_index)\n",
        "        return p+bin_score\n",
        "        "
      ]
    },
    {
      "cell_type": "code",
      "execution_count": null,
      "id": "429523a9",
      "metadata": {
        "id": "429523a9"
      },
      "outputs": [],
      "source": [
        "p = uncalibrated_p\n",
        "y = y_binary_test\n",
        "bins = 10\n",
        "\n",
        "# sorted_index_p = np.argsort(p)\n",
        "sorted_p = np.sort(p)\n",
        "proba_bins = np.array_split(sorted_p, bins)\n",
        "# index_bins = np.array_split(sorted_index_p, bins)"
      ]
    },
    {
      "cell_type": "code",
      "execution_count": null,
      "id": "5a2f9df8",
      "metadata": {
        "id": "5a2f9df8",
        "outputId": "508f24b2-b2b3-41fb-ee38-4bc224346a0d"
      },
      "outputs": [
        {
          "data": {
            "text/plain": [
              "array([-0.03625363, -0.03740749, -0.05549245, -0.07854082, -0.16266427,\n",
              "       -0.1050078 ,  0.09048622, -0.16806475,  0.14842536,  0.50011887])"
            ]
          },
          "execution_count": 215,
          "metadata": {},
          "output_type": "execute_result"
        }
      ],
      "source": [
        "from scipy.optimize import minimize\n",
        "\n",
        "fun =  lambda theta: np.sum([np.sum((theta[m] - proba_bins[m])**2) for m in range(bins)])\n",
        "opt = minimize(fun, x0 = np.zeros(10),method='nelder-mead')\n",
        "opt.x"
      ]
    },
    {
      "cell_type": "code",
      "execution_count": null,
      "id": "78b43cd6",
      "metadata": {
        "id": "78b43cd6",
        "outputId": "0ecae3a0-72d8-4571-f3f0-adcf29c3799f"
      },
      "outputs": [
        {
          "data": {
            "text/plain": [
              "array([-0.03731184, -0.03661103])"
            ]
          },
          "execution_count": 356,
          "metadata": {},
          "output_type": "execute_result"
        }
      ],
      "source": [
        "insert_index = np.searchsorted(sorted_p, [sorted_p[200], sorted_p[220]],side = 'left')\n",
        "insert_index\n",
        "# opt.x[math.floor(insert_index/ 199)], math.floor(insert_index/ 199)\n",
        "a = insert_index// len(proba_bins[0])\n",
        "[sorted_p[200], sorted_p[220]] +np.take(opt.x, a)\n",
        "# opt.x, a"
      ]
    },
    {
      "cell_type": "code",
      "execution_count": null,
      "id": "2bdb6d81",
      "metadata": {
        "id": "2bdb6d81"
      },
      "outputs": [],
      "source": [
        "#// END_TODO [STEP_6]"
      ]
    },
    {
      "cell_type": "markdown",
      "id": "d03c78a9",
      "metadata": {
        "id": "d03c78a9"
      },
      "source": [
        "#### Step 7\n",
        "\n",
        "Evaluate the performance of your calibration methods. Describe your observations in the variable `observation_calibrators` (max 2000 characters)."
      ]
    },
    {
      "cell_type": "code",
      "execution_count": null,
      "id": "8fac6439",
      "metadata": {
        "id": "8fac6439"
      },
      "outputs": [],
      "source": [
        "#// BEGIN_TODO [STEP_7] Evaluate the calibration method (10 points)\n",
        "\n",
        "# ===== =====> Replace this line by your code. <===== ===== #\n"
      ]
    },
    {
      "cell_type": "code",
      "execution_count": null,
      "id": "16c84a22",
      "metadata": {
        "id": "16c84a22"
      },
      "outputs": [],
      "source": [
        "#// END_TODO [STEP_7]"
      ]
    },
    {
      "cell_type": "markdown",
      "id": "17787b13",
      "metadata": {
        "id": "17787b13"
      },
      "source": [
        "#### Step 8\n",
        "\n",
        "Let's evaluate your selected calibration method on the output from different classifier, stored in the `./data/wafer_calibration.pkl` pickle file."
      ]
    },
    {
      "cell_type": "code",
      "execution_count": null,
      "id": "5394811a",
      "metadata": {
        "id": "5394811a"
      },
      "outputs": [],
      "source": [
        "with open('./data/wafer_calibration.pkl', 'rb') as f:\n",
        "    p_calib_train, p_calib_test, y_calib_train, y_calib_test = pickle.load(f)"
      ]
    },
    {
      "cell_type": "markdown",
      "id": "f9f5e369",
      "metadata": {
        "id": "f9f5e369"
      },
      "source": [
        "`p_calib_train` and `p_calib_test` contain the confidence estimates of a classifier (divided into a training and test set), and `y_calib_train` and `y_calib_test` contain the corresponding true labels."
      ]
    },
    {
      "cell_type": "markdown",
      "id": "8978bf59",
      "metadata": {
        "id": "8978bf59"
      },
      "source": [
        "Retrain your calibration methods on `p_calib_train` and `y_calib_train`. Use `p_calib_test` and `y_calib_test` to evaluate your methods. Describe your observations in the variable `observation_other` (max 800 characters)."
      ]
    },
    {
      "cell_type": "code",
      "execution_count": null,
      "id": "7fc63ef0",
      "metadata": {
        "id": "7fc63ef0"
      },
      "outputs": [],
      "source": [
        "#// BEGIN_TODO [STEP_8] Evaluate the calibration method on another classifier (5 points)\n",
        "\n",
        "# ===== =====> Replace this line by your code. <===== ===== #\n"
      ]
    },
    {
      "cell_type": "code",
      "execution_count": null,
      "id": "9220eaf3",
      "metadata": {
        "id": "9220eaf3"
      },
      "outputs": [],
      "source": [
        "#// END_TODO [STEP_8]"
      ]
    },
    {
      "cell_type": "markdown",
      "id": "6315f3aa",
      "metadata": {
        "id": "6315f3aa"
      },
      "source": [
        "#### Step 9\n",
        "\n",
        "Choose your favorite calibration method. Assign the instantiated class implementing your chosen calibration method to the variable `binary_calibrator` and its name to a string variable `binary_calibrator_choice`. Motivate the choice (including hyper-parameters, if any) in a string variable `binary_calibrator_motivation` (max 800 characters).\n",
        "\n",
        "Apply the chosen calibration method to your model on the test data `X_test` and assign the calibrated confidence estimates to `q_test` (an `np.ndarray` of shape $[N,]$ and `dtype` of `np.float32`).\n",
        "\n",
        "Apply the calibration method to the confidence estimates in `p_calib_test` and assign the calibrated class probabilities to the variable `q_calib_test` (an `np.ndarray` of shape $[N,]$ and `dtype` of `np.float32`).\n",
        "\n",
        "Measure the calibration error of the calibrated model and assign the result to the variable `binary_calibrated`."
      ]
    },
    {
      "cell_type": "code",
      "execution_count": null,
      "id": "ea1df57d",
      "metadata": {
        "id": "ea1df57d"
      },
      "outputs": [],
      "source": [
        "#// BEGIN_TODO [STEP_9] Choose a calibration method (5 points)\n",
        "\n",
        "# ===== =====> Replace this line by your code. <===== ===== #\n"
      ]
    },
    {
      "cell_type": "code",
      "execution_count": null,
      "id": "35b07200",
      "metadata": {
        "id": "35b07200"
      },
      "outputs": [],
      "source": [
        "#// END_TODO [STEP_9]"
      ]
    },
    {
      "cell_type": "markdown",
      "id": "97f1abf0",
      "metadata": {
        "id": "97f1abf0"
      },
      "source": [
        "#### Leaderboard\n",
        "\n",
        "If you would like to see how your binary calibration method compares to others, you can chose to submit your calibration method to the leaderboard. All submitted calibration methods will be evaluated on a held-out set from a similar distribution as `p_calib_test` and `y_calib_test`.\n",
        "\n",
        "You may submit your notebook as many times as you like before the deadline. We will try to update the leaderboard daily. Your latest submission at the moment the leaderboard is computed will count. \n",
        "\n",
        "If you would like to submit your `binary_calibrator` to the leaderboard, then assign a reference to your *trained* calibration method to the variable `leaderboard_calibrator`. Otherwise, set it to `None`. Since it will be evaluated on a held-out set, you are free to use any data that was included with this assignment. Also, assign a nickname to the string variable `leaderboard_nickname` that will be shown on the leaderboard next to your score."
      ]
    },
    {
      "cell_type": "code",
      "execution_count": null,
      "id": "84c808ce",
      "metadata": {
        "id": "84c808ce"
      },
      "outputs": [],
      "source": [
        "#// BEGIN_TODO [LEADERBOARD] Join the leaderboard (0 points)\n",
        "\n",
        "# ===== =====> Replace this line by your code. <===== ===== #\n"
      ]
    },
    {
      "cell_type": "code",
      "execution_count": null,
      "id": "11f28249",
      "metadata": {
        "id": "11f28249"
      },
      "outputs": [],
      "source": [
        "#// END_TODO [LEADERBOARD]"
      ]
    },
    {
      "cell_type": "markdown",
      "id": "b10219b1",
      "metadata": {
        "id": "b10219b1"
      },
      "source": [
        "## Extend to multi-class classification\n",
        "\n",
        "So far we have assumed a binary classification task. In this part you will implement a calibration metric and method that is applicable to multi-class classification.\n",
        "\n",
        "#### Step 10\n",
        "\n",
        "For evaluating the multi-class calibration metric and method, train a classifier on the multi-class wafer map data `X_train` and `y_train` that was loaded earlier. You are free to chose any model and data preprocessing method, as long as:\n",
        "\n",
        "- your classifier outputs the predicted class and the confidence estimate for each class,\n",
        "- your submission executes within 10 minutes on Momotor,\n",
        "- you use the libraries available on Momotor (if you would like to use other libraries, please contact the instructor to see if it can be accommodated).\n",
        "\n",
        "Evaluate your trained model on the test set `X_test` and `y_test`. What do you observe? How do you know that your model is well trained? Assign your answer to a string variable `observation_multiclass_classifier` (max 600 characters).\n",
        "\n",
        "Apply the classifier to the `X_test` data and store the predicted classes and confidence estimates in the variables `multi_uncalibrated_y` and `multi_uncalibrated_p`, respectively:\n",
        "\n",
        "- `multi_uncalibrated_y` should be a `np.ndarray` of shape $[N,K]$, with the predicted classes (one-hot encoded), where $N$ is the number of samples and $K$ is the number of classes, i.e. `multi_uncalibrated_y[n][k]` is 1 if the classifier predicted class `k`, otherwise it is 0, \n",
        "- `multi_uncalibrated_p` should be a `np.ndarray` of shape $[N,K]$, with the corresponding confidence estimates, i.e. `multi_uncalibrated_p[n][k]` is the classifier's confidence that the predicted class should be `k`.\n",
        "\n",
        "> **IMPORTANT:** For the wafer dataset $K = 9$ and the class indeces should correspond to the classes listed in section **Load the data**."
      ]
    },
    {
      "cell_type": "code",
      "execution_count": null,
      "id": "c4561cb2",
      "metadata": {
        "id": "c4561cb2"
      },
      "outputs": [],
      "source": [
        "#// BEGIN_TODO [STEP_10] Train a multi-class classifier (10 points)\n",
        "import warnings\n",
        "warnings.filterwarnings('ignore', category=UserWarning, append=True)\n",
        "\n",
        "from sklearn.preprocessing import OneHotEncoder as ohe\n",
        "\n",
        "enc = ohe(categories = [[0,1,2,3,4,5,6,7,8]] , handle_unknown = 'infrequent_if_exist')\n",
        "encoded_y = enc.fit_transform(y_train.reshape(-1,1)).toarray()"
      ]
    },
    {
      "cell_type": "code",
      "execution_count": null,
      "id": "3c6b815d",
      "metadata": {
        "id": "3c6b815d",
        "outputId": "f55e7d79-e1ad-4577-8c9f-90963368cebc"
      },
      "outputs": [
        {
          "data": {
            "text/html": [
              "<style>#sk-container-id-10 {color: black;background-color: white;}#sk-container-id-10 pre{padding: 0;}#sk-container-id-10 div.sk-toggleable {background-color: white;}#sk-container-id-10 label.sk-toggleable__label {cursor: pointer;display: block;width: 100%;margin-bottom: 0;padding: 0.3em;box-sizing: border-box;text-align: center;}#sk-container-id-10 label.sk-toggleable__label-arrow:before {content: \"▸\";float: left;margin-right: 0.25em;color: #696969;}#sk-container-id-10 label.sk-toggleable__label-arrow:hover:before {color: black;}#sk-container-id-10 div.sk-estimator:hover label.sk-toggleable__label-arrow:before {color: black;}#sk-container-id-10 div.sk-toggleable__content {max-height: 0;max-width: 0;overflow: hidden;text-align: left;background-color: #f0f8ff;}#sk-container-id-10 div.sk-toggleable__content pre {margin: 0.2em;color: black;border-radius: 0.25em;background-color: #f0f8ff;}#sk-container-id-10 input.sk-toggleable__control:checked~div.sk-toggleable__content {max-height: 200px;max-width: 100%;overflow: auto;}#sk-container-id-10 input.sk-toggleable__control:checked~label.sk-toggleable__label-arrow:before {content: \"▾\";}#sk-container-id-10 div.sk-estimator input.sk-toggleable__control:checked~label.sk-toggleable__label {background-color: #d4ebff;}#sk-container-id-10 div.sk-label input.sk-toggleable__control:checked~label.sk-toggleable__label {background-color: #d4ebff;}#sk-container-id-10 input.sk-hidden--visually {border: 0;clip: rect(1px 1px 1px 1px);clip: rect(1px, 1px, 1px, 1px);height: 1px;margin: -1px;overflow: hidden;padding: 0;position: absolute;width: 1px;}#sk-container-id-10 div.sk-estimator {font-family: monospace;background-color: #f0f8ff;border: 1px dotted black;border-radius: 0.25em;box-sizing: border-box;margin-bottom: 0.5em;}#sk-container-id-10 div.sk-estimator:hover {background-color: #d4ebff;}#sk-container-id-10 div.sk-parallel-item::after {content: \"\";width: 100%;border-bottom: 1px solid gray;flex-grow: 1;}#sk-container-id-10 div.sk-label:hover label.sk-toggleable__label {background-color: #d4ebff;}#sk-container-id-10 div.sk-serial::before {content: \"\";position: absolute;border-left: 1px solid gray;box-sizing: border-box;top: 0;bottom: 0;left: 50%;z-index: 0;}#sk-container-id-10 div.sk-serial {display: flex;flex-direction: column;align-items: center;background-color: white;padding-right: 0.2em;padding-left: 0.2em;position: relative;}#sk-container-id-10 div.sk-item {position: relative;z-index: 1;}#sk-container-id-10 div.sk-parallel {display: flex;align-items: stretch;justify-content: center;background-color: white;position: relative;}#sk-container-id-10 div.sk-item::before, #sk-container-id-10 div.sk-parallel-item::before {content: \"\";position: absolute;border-left: 1px solid gray;box-sizing: border-box;top: 0;bottom: 0;left: 50%;z-index: -1;}#sk-container-id-10 div.sk-parallel-item {display: flex;flex-direction: column;z-index: 1;position: relative;background-color: white;}#sk-container-id-10 div.sk-parallel-item:first-child::after {align-self: flex-end;width: 50%;}#sk-container-id-10 div.sk-parallel-item:last-child::after {align-self: flex-start;width: 50%;}#sk-container-id-10 div.sk-parallel-item:only-child::after {width: 0;}#sk-container-id-10 div.sk-dashed-wrapped {border: 1px dashed gray;margin: 0 0.4em 0.5em 0.4em;box-sizing: border-box;padding-bottom: 0.4em;background-color: white;}#sk-container-id-10 div.sk-label label {font-family: monospace;font-weight: bold;display: inline-block;line-height: 1.2em;}#sk-container-id-10 div.sk-label-container {text-align: center;}#sk-container-id-10 div.sk-container {/* jupyter's `normalize.less` sets `[hidden] { display: none; }` but bootstrap.min.css set `[hidden] { display: none !important; }` so we also need the `!important` here to be able to override the default hidden behavior on the sphinx rendered scikit-learn.org. See: https://github.com/scikit-learn/scikit-learn/issues/21755 */display: inline-block !important;position: relative;}#sk-container-id-10 div.sk-text-repr-fallback {display: none;}</style><div id=\"sk-container-id-10\" class=\"sk-top-container\"><div class=\"sk-text-repr-fallback\"><pre>OneVsRestClassifier(estimator=LogisticRegression(class_weight=&#x27;balanced&#x27;))</pre><b>In a Jupyter environment, please rerun this cell to show the HTML representation or trust the notebook. <br />On GitHub, the HTML representation is unable to render, please try loading this page with nbviewer.org.</b></div><div class=\"sk-container\" hidden><div class=\"sk-item sk-dashed-wrapped\"><div class=\"sk-label-container\"><div class=\"sk-label sk-toggleable\"><input class=\"sk-toggleable__control sk-hidden--visually\" id=\"sk-estimator-id-14\" type=\"checkbox\" ><label for=\"sk-estimator-id-14\" class=\"sk-toggleable__label sk-toggleable__label-arrow\">OneVsRestClassifier</label><div class=\"sk-toggleable__content\"><pre>OneVsRestClassifier(estimator=LogisticRegression(class_weight=&#x27;balanced&#x27;))</pre></div></div></div><div class=\"sk-parallel\"><div class=\"sk-parallel-item\"><div class=\"sk-item\"><div class=\"sk-label-container\"><div class=\"sk-label sk-toggleable\"><input class=\"sk-toggleable__control sk-hidden--visually\" id=\"sk-estimator-id-15\" type=\"checkbox\" ><label for=\"sk-estimator-id-15\" class=\"sk-toggleable__label sk-toggleable__label-arrow\">estimator: LogisticRegression</label><div class=\"sk-toggleable__content\"><pre>LogisticRegression(class_weight=&#x27;balanced&#x27;)</pre></div></div></div><div class=\"sk-serial\"><div class=\"sk-item\"><div class=\"sk-estimator sk-toggleable\"><input class=\"sk-toggleable__control sk-hidden--visually\" id=\"sk-estimator-id-16\" type=\"checkbox\" ><label for=\"sk-estimator-id-16\" class=\"sk-toggleable__label sk-toggleable__label-arrow\">LogisticRegression</label><div class=\"sk-toggleable__content\"><pre>LogisticRegression(class_weight=&#x27;balanced&#x27;)</pre></div></div></div></div></div></div></div></div></div></div>"
            ],
            "text/plain": [
              "OneVsRestClassifier(estimator=LogisticRegression(class_weight='balanced'))"
            ]
          },
          "execution_count": 441,
          "metadata": {},
          "output_type": "execute_result"
        }
      ],
      "source": [
        "from sklearn.linear_model import LogisticRegression\n",
        "from sklearn.multiclass import OneVsRestClassifier\n",
        "\n",
        "multi_clf = LogisticRegression(class_weight = 'balanced', )\n",
        "ovr = OneVsRestClassifier(multi_clf)\n",
        "ovr.fit(preprocess(X_train), encoded_y)"
      ]
    },
    {
      "cell_type": "code",
      "execution_count": null,
      "id": "d957aa85",
      "metadata": {
        "id": "d957aa85"
      },
      "outputs": [],
      "source": [
        "multi_uncalibrated_y = ovr.predict(preprocess(X_test))\n",
        "multi_uncalibrated_p = ovr.predict_proba(preprocess(X_test))"
      ]
    },
    {
      "cell_type": "code",
      "execution_count": null,
      "id": "bca274a4",
      "metadata": {
        "id": "bca274a4"
      },
      "outputs": [],
      "source": [
        "observation_multiclass_classifier = \"\""
      ]
    },
    {
      "cell_type": "code",
      "execution_count": null,
      "id": "71968ace",
      "metadata": {
        "id": "71968ace"
      },
      "outputs": [],
      "source": [
        "#// END_TODO [STEP_10]"
      ]
    },
    {
      "cell_type": "markdown",
      "id": "d57c9607",
      "metadata": {
        "id": "d57c9607"
      },
      "source": [
        "#### Step 11\n",
        "\n",
        "Choose a calibration metric and assign your choice to a string variable `multi_calibration_choice`. Motivate the choice (including the hyper-parameters, if any) in a string variable `multi_calibration_motivation` (max 800 characters). Describe how you decide based on this metric if a classifier is sufficiently calibrated in a string variable `multi_calibration_decision` (max 200 characters)."
      ]
    },
    {
      "cell_type": "code",
      "execution_count": null,
      "id": "4079883a",
      "metadata": {
        "id": "4079883a"
      },
      "outputs": [],
      "source": [
        "#// BEGIN_TODO [STEP_11] Choose a multi-class calibration metric (5 points)\n",
        "\n",
        "multi_calibration_choice = \"\"\n",
        "\n",
        "multi_calibration_motivation = \"\"\n",
        "\n",
        "multi_calibration_decision = \"\""
      ]
    },
    {
      "cell_type": "code",
      "execution_count": null,
      "id": "adfa35ca",
      "metadata": {
        "id": "adfa35ca"
      },
      "outputs": [],
      "source": [
        "#// END_TODO [STEP_11]"
      ]
    },
    {
      "cell_type": "markdown",
      "id": "27153f2c",
      "metadata": {
        "id": "27153f2c"
      },
      "source": [
        "#### Step 12\n",
        "\n",
        "Implement the chosen calibration metric. It should be a Python class with the following method:\n",
        "\n",
        "- `score(self, p, y)`, where\n",
        "    - `p` is a `np.ndarray` of shape $[N,K]$ with the confidence estimates, where $N$ is the number of samples and $K$ is the number of classes,\n",
        "    - `y` is a `np.ndarray` of shape $[N,K]$ with the corresponding true class labels (one-hot encoded)\n",
        "    - It returns a `np.float` number with the calibration error.\n",
        "\n",
        "Instantiate the class (setting any relevant hyper-parameters) and assign it to the variable `multi_metric`.\n",
        "\n",
        "Measure the calibration error of your model on `X_test` and `y_test` and assign the result to the variable `multi_uncalibrated`."
      ]
    },
    {
      "cell_type": "code",
      "execution_count": null,
      "id": "9bb587e5",
      "metadata": {
        "id": "9bb587e5"
      },
      "outputs": [],
      "source": [
        "#// BEGIN_TODO [STEP_12] Implement the multi-class calibration metric (5 points)\n",
        "\n",
        "# ===== =====> Replace this line by your code. <===== ===== #\n"
      ]
    },
    {
      "cell_type": "code",
      "execution_count": null,
      "id": "b90c41e8",
      "metadata": {
        "id": "b90c41e8"
      },
      "outputs": [],
      "source": [
        "#// END_TODO [STEP_12]"
      ]
    },
    {
      "cell_type": "markdown",
      "id": "b41bb2fb",
      "metadata": {
        "id": "b41bb2fb"
      },
      "source": [
        "#### Step 13\n",
        "\n",
        "Implement at least one calibration method. Each calibration method should be a Python class with the following methods:\n",
        "\n",
        "- `fit(self, p, labels)`: where \n",
        "    - `p` is a `np.ndarray` of shape $[N,K]$ with the confidence estimates, where $N$ is the number of samples and $K$ is the number of classes,\n",
        "    - `y` is a `np.ndarray` of shape $[N,K]$ with the corresponding true class labels (one-hot encoded)\n",
        "    - It fits the calibration model and returns a reference to `self`.\n",
        "\n",
        "- `predict_proba(self, p)`: where\n",
        "    - `p` is a `np.ndarray` of shape $[N,K]$ with the confidence estimates, where $N$ is the number of samples and $K$ is the number of classes,\n",
        "    - It returns an `np.ndarray` of shape $[N,K]$ with the calibrated confidence estimates for each sample in `p`.\n",
        "\n",
        "> **IMPORTANT:** You are not allowed to use the `sklearn.calibration.CalibratedClassifierCV()` method.\n",
        "\n",
        "Instantiate the calibration methods (setting any relevant hyper-parameters) and assign them to a list variable `multi_calibrators`."
      ]
    },
    {
      "cell_type": "code",
      "execution_count": null,
      "id": "08e5cb81",
      "metadata": {
        "id": "08e5cb81"
      },
      "outputs": [],
      "source": [
        "#// BEGIN_TODO [STEP_13] Implement multi-class calibration methods (10 points)\n",
        "\n",
        "# ===== =====> Replace this line by your code. <===== ===== #\n"
      ]
    },
    {
      "cell_type": "code",
      "execution_count": null,
      "id": "81430a92",
      "metadata": {
        "id": "81430a92"
      },
      "outputs": [],
      "source": [
        "#// END_TODO [STEP_13]"
      ]
    },
    {
      "cell_type": "markdown",
      "id": "db7a2430",
      "metadata": {
        "id": "db7a2430"
      },
      "source": [
        "#### Step 14\n",
        "\n",
        "Evaluate the performance of your calibration methods. Choose your favorite method and assign its name to a string variable `multiclass_calibrator_choice`. Motivate the choice (including hyper-parameters, if any) in a string variable `multiclass_calibrator_motivation` (max 800 characters).\n",
        "\n",
        "Apply the chosen calibration method to your model on the test data `X_test` and assign the calibrated confidence estimates to `q_multi_test` (an `np.ndarray` of shape $[N,K]$ and `dtype` of `np.float32`).\n",
        "\n",
        "Measure the calibration error of the calibrated model and assign the result to the variable `multi_calibrated`."
      ]
    },
    {
      "cell_type": "code",
      "execution_count": null,
      "id": "12713a51",
      "metadata": {
        "id": "12713a51"
      },
      "outputs": [],
      "source": [
        "#// BEGIN_TODO [STEP_14] Choose a multi-class calibration method (5 points)\n",
        "\n",
        "# ===== =====> Replace this line by your code. <===== ===== #\n"
      ]
    },
    {
      "cell_type": "code",
      "execution_count": null,
      "id": "f9ab922c",
      "metadata": {
        "id": "f9ab922c"
      },
      "outputs": [],
      "source": [
        "#// END_TODO [STEP_14]"
      ]
    },
    {
      "cell_type": "markdown",
      "id": "0c227cdb",
      "metadata": {
        "id": "0c227cdb"
      },
      "source": [
        "#### Step 15\n",
        "\n",
        "A well calibrated classifier can also be used to identify whether a test sample is out-of-distribution, i.e. if it is very different from the data that the classifier was trained on. The `ood.pkl` file contains several out-of-distribution samples."
      ]
    },
    {
      "cell_type": "code",
      "execution_count": null,
      "id": "2d3e8e89",
      "metadata": {
        "id": "2d3e8e89"
      },
      "outputs": [],
      "source": [
        "with open('./data/ood.pkl', 'rb') as f:\n",
        "    X_ood = pickle.load(f)\n",
        "    \n",
        "plt.imshow(X_ood[0]);"
      ]
    },
    {
      "cell_type": "markdown",
      "id": "55702d57",
      "metadata": {
        "id": "55702d57"
      },
      "source": [
        "Evaluate your classifier and calibration method on the data in `X_ood`. Describe your observations in a string variable `observation_ood` (max 1000 characters). Describe one drawback of this approach for identifying out-of-distribution samples in a string variable `drawback_ood` (max 500 characters)."
      ]
    },
    {
      "cell_type": "code",
      "execution_count": null,
      "id": "14fc53a0",
      "metadata": {
        "id": "14fc53a0"
      },
      "outputs": [],
      "source": [
        "#// BEGIN_TODO [STEP_15] (5 points)\n",
        "\n",
        "# ===== =====> Replace this line by your code. <===== ===== #\n"
      ]
    },
    {
      "cell_type": "code",
      "execution_count": null,
      "id": "9e64c875",
      "metadata": {
        "id": "9e64c875"
      },
      "outputs": [],
      "source": [
        "#// END_TODO [STEP_15]"
      ]
    },
    {
      "cell_type": "markdown",
      "id": "73c1e555",
      "metadata": {
        "id": "73c1e555"
      },
      "source": [
        "# Feedback\n",
        "\n",
        "Please fill in this questionaire to help us improve this course for the next year. Your feedback will be anonymized and will not affect your grade in any way!"
      ]
    },
    {
      "cell_type": "markdown",
      "id": "f4323869",
      "metadata": {
        "id": "f4323869"
      },
      "source": [
        "### How many hours did you spend on this assignment?\n",
        "\n",
        "Assign a number to variable `feedback_time`."
      ]
    },
    {
      "cell_type": "code",
      "execution_count": null,
      "id": "7e209271",
      "metadata": {
        "id": "7e209271"
      },
      "outputs": [],
      "source": [
        "#// BEGIN_FEEDBACK [Feedback_1] (0 points)\n",
        "\n",
        "#// END_FEEDBACK [Feedback_1]\n",
        "\n",
        "import numbers\n",
        "assert isinstance(feedback_time, numbers.Number), \"Please assign a number to variable feedback_time\""
      ]
    },
    {
      "cell_type": "markdown",
      "id": "92df9e1a",
      "metadata": {
        "id": "92df9e1a"
      },
      "source": [
        "### How difficult did you find this assignment?\n",
        "\n",
        "Assign an integer to variable `feedback_difficulty`, on a scale 0 - 10, with 0 being very easy, 5 being just right, and 10 being very difficult."
      ]
    },
    {
      "cell_type": "code",
      "execution_count": null,
      "id": "c44da128",
      "metadata": {
        "id": "c44da128"
      },
      "outputs": [],
      "source": [
        "#// BEGIN_FEEDBACK [Feedback_2] (0 points)\n",
        "\n",
        "#// END_FEEDBACK [Feedback_2]\n",
        "\n",
        "assert isinstance(feedback_difficulty, numbers.Number), \"Please assign a number to variable feedback_difficulty\""
      ]
    },
    {
      "cell_type": "markdown",
      "id": "3968bde4",
      "metadata": {
        "id": "3968bde4"
      },
      "source": [
        "### Which Machine Learning-related courses did you complete (TUE/workshop/online/etc.)?\n",
        "\n",
        "Assign a string to variable `feedback_courses`, listing any ML courses you followed."
      ]
    },
    {
      "cell_type": "code",
      "execution_count": null,
      "id": "e9b570b9",
      "metadata": {
        "id": "e9b570b9"
      },
      "outputs": [],
      "source": [
        "#// BEGIN_FEEDBACK [Feedback_3] (0 points)\n",
        "\n",
        "#// END_FEEDBACK [Feedback_3]\n",
        "\n",
        "assert isinstance(feedback_courses, str), \"Please assign a string to variable feedback_courses\""
      ]
    },
    {
      "cell_type": "markdown",
      "id": "00ca5959",
      "metadata": {
        "id": "00ca5959"
      },
      "source": [
        "### Would you prefer to earn points for the leaderboard exercise?\n",
        "\n",
        "Currently, the leaderboard exercise is optional: your participation on the leaderboard does not affect your grade, neither does your position on the leaderboard. Would you enjoy a leaderboard exercise, where each group's score is published on the leaderboard and the winning group gets a reward (e.g. they get a 10 for the entire assignment, all other groups are assessed normally on the other exercises)?\n",
        "\n",
        "Assign a number to variable `feedback_leaderboard`:\n",
        "\n",
        "- 1 for \"yes, I would like it\"\n",
        "- 0 for \"I do not have an opinion\"\n",
        "- -1 for \"no, I prefer an optional leaderboard\""
      ]
    },
    {
      "cell_type": "code",
      "execution_count": null,
      "id": "fc30d31c",
      "metadata": {
        "id": "fc30d31c"
      },
      "outputs": [],
      "source": [
        "#// BEGIN_FEEDBACK [Feedback_4] (0 points)\n",
        "\n",
        "#// END_FEEDBACK [Feedback_4]\n",
        "\n",
        "assert isinstance(feedback_leaderboard, numbers.Number), \"Please assign a number to variable feedback_leaderboard\""
      ]
    },
    {
      "cell_type": "markdown",
      "id": "e3790e84",
      "metadata": {
        "id": "e3790e84"
      },
      "source": [
        "### (Optional) What did you like?\n",
        "\n",
        "Assign a string to variable `feedback_like`."
      ]
    },
    {
      "cell_type": "code",
      "execution_count": null,
      "id": "78831b99",
      "metadata": {
        "id": "78831b99"
      },
      "outputs": [],
      "source": [
        "#// BEGIN_FEEDBACK [Feedback_5] (0 points)\n",
        "\n",
        "#// END_FEEDBACK [Feedback_5]"
      ]
    },
    {
      "cell_type": "markdown",
      "id": "e0b74a0b",
      "metadata": {
        "id": "e0b74a0b"
      },
      "source": [
        "### (Optional) What can be improved?\n",
        "\n",
        "Assign a string to variable `feedback_improve`. Please be specific, so that we can act on your feedback."
      ]
    },
    {
      "cell_type": "code",
      "execution_count": null,
      "id": "09c79c04",
      "metadata": {
        "id": "09c79c04"
      },
      "outputs": [],
      "source": [
        "#// BEGIN_FEEDBACK [Feedback_6] (0 points)\n",
        "\n",
        "#// END_FEEDBACK [Feedback_6]"
      ]
    }
  ],
  "metadata": {
    "hide_input": false,
    "kernelspec": {
      "display_name": "Python 3.9.13 ('mli')",
      "language": "python",
      "name": "python3"
    },
    "language_info": {
      "codemirror_mode": {
        "name": "ipython",
        "version": 3
      },
      "file_extension": ".py",
      "mimetype": "text/x-python",
      "name": "python",
      "nbconvert_exporter": "python",
      "pygments_lexer": "ipython3",
      "version": "3.9.13"
    },
    "toc": {
      "base_numbering": 1,
      "nav_menu": {},
      "number_sections": false,
      "sideBar": true,
      "skip_h1_title": false,
      "title_cell": "Table of Contents",
      "title_sidebar": "Contents",
      "toc_cell": false,
      "toc_position": {},
      "toc_section_display": true,
      "toc_window_display": true
    },
    "vscode": {
      "interpreter": {
        "hash": "bd0dd79d8f10946dd51914a13eacade197ea60fda885d315933013eef69c4df1"
      }
    },
    "colab": {
      "provenance": [],
      "collapsed_sections": [
        "d57c9607",
        "27153f2c",
        "b41bb2fb",
        "db7a2430",
        "0c227cdb"
      ]
    }
  },
  "nbformat": 4,
  "nbformat_minor": 5
}